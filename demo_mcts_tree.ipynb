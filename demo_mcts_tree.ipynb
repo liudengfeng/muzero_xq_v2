{
 "cells": [
  {
   "attachments": {},
   "cell_type": "markdown",
   "metadata": {},
   "source": [
    "使用训练模型，观察搜索树"
   ]
  },
  {
   "cell_type": "code",
   "execution_count": 1,
   "metadata": {},
   "outputs": [],
   "source": [
    "from muzero.feature_utils import obs2feature\n",
    "from muzero.mcts import MCTS, render_root\n",
    "import gymnasium as gym\n",
    "import gymxq\n"
   ]
  },
  {
   "cell_type": "code",
   "execution_count": 2,
   "metadata": {},
   "outputs": [],
   "source": [
    "import torch\n"
   ]
  },
  {
   "cell_type": "code",
   "execution_count": 3,
   "metadata": {},
   "outputs": [],
   "source": [
    "from muzero.models import MuZeroNetwork\n",
    "from muzero.config import MuZeroConfig\n",
    "import numpy as np\n",
    "from muzero.feature_utils import encoded_action"
   ]
  },
  {
   "cell_type": "code",
   "execution_count": 4,
   "metadata": {},
   "outputs": [],
   "source": [
    "config = MuZeroConfig()\n",
    "config.batch_size = 512\n",
    "config.training_steps = 200\n",
    "config.num_simulations = 120\n"
   ]
  },
  {
   "cell_type": "code",
   "execution_count": 5,
   "metadata": {},
   "outputs": [],
   "source": [
    "model = MuZeroNetwork(config)\n",
    "model.load_state_dict(torch.load(\"model_weights.pth\"))\n",
    "model = model.to(\"cuda\")\n",
    "model = model.eval()\n"
   ]
  },
  {
   "cell_type": "code",
   "execution_count": 6,
   "metadata": {},
   "outputs": [],
   "source": [
    "# init_fen = \"3k5/2P1P4/9/9/9/9/9/9/4p1p2/5K3 r - 100 0 190\"\n",
    "init_fen = \"2r2k3/6R1C/b4N1rb/9/5n3/5C3/6n2/5p3/4p4/5K1R1 r - 110 0 180\"\n"
   ]
  },
  {
   "cell_type": "code",
   "execution_count": 7,
   "metadata": {},
   "outputs": [],
   "source": [
    "env = gym.make(\n",
    "    \"xqv1\",\n",
    "    init_fen=init_fen,\n",
    "    render_mode=\"ansi\",\n",
    ")\n"
   ]
  },
  {
   "cell_type": "code",
   "execution_count": 8,
   "metadata": {},
   "outputs": [
    {
     "name": "stdout",
     "output_type": "stream",
     "text": [
      "\n",
      "9 \u001b[30m＋\u001b[0m\u001b[30m＋\u001b[0m\u001b[30m＋\u001b[0m\u001b[34m将\u001b[0m\u001b[30m＋\u001b[0m\u001b[30m＋\u001b[0m\u001b[30m＋\u001b[0m\u001b[30m＋\u001b[0m\u001b[30m＋\u001b[0m\n",
      "8 \u001b[30m＋\u001b[0m\u001b[30m＋\u001b[0m\u001b[31m兵\u001b[0m\u001b[30m＋\u001b[0m\u001b[31m兵\u001b[0m\u001b[30m＋\u001b[0m\u001b[30m＋\u001b[0m\u001b[30m＋\u001b[0m\u001b[30m＋\u001b[0m\n",
      "7 \u001b[30m＋\u001b[0m\u001b[30m＋\u001b[0m\u001b[30m＋\u001b[0m\u001b[30m＋\u001b[0m\u001b[30m＋\u001b[0m\u001b[30m＋\u001b[0m\u001b[30m＋\u001b[0m\u001b[30m＋\u001b[0m\u001b[30m＋\u001b[0m\n",
      "6 \u001b[30m＋\u001b[0m\u001b[30m＋\u001b[0m\u001b[30m＋\u001b[0m\u001b[30m＋\u001b[0m\u001b[30m＋\u001b[0m\u001b[30m＋\u001b[0m\u001b[30m＋\u001b[0m\u001b[30m＋\u001b[0m\u001b[30m＋\u001b[0m\n",
      "5 \u001b[30m＋\u001b[0m\u001b[30m＋\u001b[0m\u001b[30m＋\u001b[0m\u001b[30m＋\u001b[0m\u001b[30m＋\u001b[0m\u001b[30m＋\u001b[0m\u001b[30m＋\u001b[0m\u001b[30m＋\u001b[0m\u001b[30m＋\u001b[0m\n",
      "4 \u001b[30m＋\u001b[0m\u001b[30m＋\u001b[0m\u001b[30m＋\u001b[0m\u001b[30m＋\u001b[0m\u001b[30m＋\u001b[0m\u001b[30m＋\u001b[0m\u001b[30m＋\u001b[0m\u001b[30m＋\u001b[0m\u001b[30m＋\u001b[0m\n",
      "3 \u001b[30m＋\u001b[0m\u001b[30m＋\u001b[0m\u001b[30m＋\u001b[0m\u001b[30m＋\u001b[0m\u001b[30m＋\u001b[0m\u001b[30m＋\u001b[0m\u001b[30m＋\u001b[0m\u001b[30m＋\u001b[0m\u001b[30m＋\u001b[0m\n",
      "2 \u001b[30m＋\u001b[0m\u001b[30m＋\u001b[0m\u001b[30m＋\u001b[0m\u001b[30m＋\u001b[0m\u001b[30m＋\u001b[0m\u001b[30m＋\u001b[0m\u001b[30m＋\u001b[0m\u001b[30m＋\u001b[0m\u001b[30m＋\u001b[0m\n",
      "1 \u001b[30m＋\u001b[0m\u001b[30m＋\u001b[0m\u001b[30m＋\u001b[0m\u001b[30m＋\u001b[0m\u001b[34m卒\u001b[0m\u001b[30m＋\u001b[0m\u001b[34m卒\u001b[0m\u001b[30m＋\u001b[0m\u001b[30m＋\u001b[0m\n",
      "0 \u001b[30m＋\u001b[0m\u001b[30m＋\u001b[0m\u001b[30m＋\u001b[0m\u001b[30m＋\u001b[0m\u001b[30m＋\u001b[0m\u001b[31m帅\u001b[0m\u001b[30m＋\u001b[0m\u001b[30m＋\u001b[0m\u001b[30m＋\u001b[0m\n",
      "  ０１２３４５６７８\n",
      "轮到红方走子\n",
      "\n"
     ]
    }
   ],
   "source": [
    "obs, info = env.reset()\n",
    "print(env.render())\n"
   ]
  },
  {
   "cell_type": "code",
   "execution_count": 9,
   "metadata": {},
   "outputs": [],
   "source": [
    "# 设置调试 mcts 搜索树\n",
    "config.debug_mcts = True\n"
   ]
  },
  {
   "cell_type": "code",
   "execution_count": 10,
   "metadata": {},
   "outputs": [],
   "source": [
    "observation = obs2feature(obs, flatten=False)\n",
    "last_a = 2086\n",
    "observation = np.concatenate(\n",
    "    [encoded_action(last_a)[np.newaxis, :], observation], axis=1\n",
    ")\n",
    "\n",
    "to_play = info[\"to_play\"]\n",
    "reset = False\n",
    "with torch.no_grad():\n",
    "    legal_actions = info[\"legal_actions\"]\n",
    "    root, mcts_info = MCTS(config).run(\n",
    "        model,\n",
    "        observation,\n",
    "        legal_actions,\n",
    "        to_play,\n",
    "        False,\n",
    "    )\n",
    "    render_root(root, \"test\", \"svg\", \"mcts_tree\")\n"
   ]
  },
  {
   "cell_type": "code",
   "execution_count": 11,
   "metadata": {},
   "outputs": [
    {
     "data": {
      "text/plain": [
       "0.9456578975193672"
      ]
     },
     "execution_count": 11,
     "metadata": {},
     "output_type": "execute_result"
    }
   ],
   "source": [
    "root.value()"
   ]
  },
  {
   "cell_type": "code",
   "execution_count": 12,
   "metadata": {},
   "outputs": [
    {
     "data": {
      "text/plain": [
       "{'2818': 0.0,\n",
       " '2838': 0.0,\n",
       " '2829': 0.99,\n",
       " '4838': 0.01,\n",
       " '4858': 0.0,\n",
       " '4849': 0.0}"
      ]
     },
     "execution_count": 12,
     "metadata": {},
     "output_type": "execute_result"
    }
   ],
   "source": [
    "root.get_updated_policy()"
   ]
  },
  {
   "cell_type": "code",
   "execution_count": null,
   "metadata": {},
   "outputs": [],
   "source": []
  }
 ],
 "metadata": {
  "kernelspec": {
   "display_name": "rl",
   "language": "python",
   "name": "python3"
  },
  "language_info": {
   "codemirror_mode": {
    "name": "ipython",
    "version": 3
   },
   "file_extension": ".py",
   "mimetype": "text/x-python",
   "name": "python",
   "nbconvert_exporter": "python",
   "pygments_lexer": "ipython3",
   "version": "3.10.9"
  },
  "orig_nbformat": 4
 },
 "nbformat": 4,
 "nbformat_minor": 2
}
