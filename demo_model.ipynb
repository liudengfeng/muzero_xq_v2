{
 "cells": [
  {
   "cell_type": "code",
   "execution_count": 1,
   "metadata": {},
   "outputs": [],
   "source": [
    "from muzero.models import MuZeroNetwork\n",
    "from muzero.config import MuZeroConfig\n",
    "from muzero.checkpoint import get_current_checkpoint\n",
    "import torch"
   ]
  },
  {
   "cell_type": "code",
   "execution_count": 2,
   "metadata": {},
   "outputs": [],
   "source": [
    "config = MuZeroConfig()\n",
    "config.runs = 5"
   ]
  },
  {
   "cell_type": "code",
   "execution_count": 3,
   "metadata": {},
   "outputs": [],
   "source": [
    "device = \"cuda\"\n",
    "# device = \"cpu\""
   ]
  },
  {
   "cell_type": "code",
   "execution_count": 4,
   "metadata": {},
   "outputs": [],
   "source": [
    "checkpoint = get_current_checkpoint(config)"
   ]
  },
  {
   "cell_type": "code",
   "execution_count": 5,
   "metadata": {},
   "outputs": [],
   "source": [
    "model = MuZeroNetwork(config)\n",
    "# torch 2.0 提速 20% 左右\n",
    "# model = torch.compile(model)\n",
    "model.set_weights(checkpoint[\"weights\"])\n",
    "model = model.to(device)"
   ]
  },
  {
   "cell_type": "code",
   "execution_count": 6,
   "metadata": {},
   "outputs": [],
   "source": [
    "batch_size = 1024\n",
    "for _ in range(100):\n",
    "    observations = torch.rand((batch_size, 15, 10, 9), dtype=torch.float32).to(device)\n",
    "    (\n",
    "        root_predicted_value,\n",
    "        reward,\n",
    "        policy_logits,\n",
    "        hidden_state,\n",
    "    ) = model.initial_inference(observations)\n"
   ]
  }
 ],
 "metadata": {
  "kernelspec": {
   "display_name": "rl",
   "language": "python",
   "name": "python3"
  },
  "language_info": {
   "codemirror_mode": {
    "name": "ipython",
    "version": 3
   },
   "file_extension": ".py",
   "mimetype": "text/x-python",
   "name": "python",
   "nbconvert_exporter": "python",
   "pygments_lexer": "ipython3",
   "version": "3.10.9"
  },
  "orig_nbformat": 4
 },
 "nbformat": 4,
 "nbformat_minor": 2
}
